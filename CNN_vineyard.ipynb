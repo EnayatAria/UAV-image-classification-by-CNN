{
  "nbformat": 4,
  "nbformat_minor": 0,
  "metadata": {
    "accelerator": "GPU",
    "colab": {
      "name": "CNN_vineyard.ipynb",
      "provenance": [],
      "collapsed_sections": [],
      "mount_file_id": "17v7dl2QJDZccpx_x0RTS-w6MYKnaf6QP",
      "authorship_tag": "ABX9TyO4A/uxuHMDuqfBo/MQ/17Q",
      "include_colab_link": true
    },
    "kernelspec": {
      "display_name": "Python 3",
      "name": "python3"
    }
  },
  "cells": [
    {
      "cell_type": "markdown",
      "metadata": {
        "id": "view-in-github",
        "colab_type": "text"
      },
      "source": [
        "<a href=\"https://colab.research.google.com/github/EnayatAria/UAV-image-classification-by-CNN/blob/main/CNN_vineyard.ipynb\" target=\"_parent\"><img src=\"https://colab.research.google.com/assets/colab-badge.svg\" alt=\"Open In Colab\"/></a>"
      ]
    },
    {
      "cell_type": "code",
      "metadata": {
        "colab": {
          "base_uri": "https://localhost:8080/"
        },
        "id": "4-t_Fm4MSVYE",
        "outputId": "2a5ec893-cb9d-44c8-da87-0090b942ddf9"
      },
      "source": [
        "# This part is for debugging the code\n",
        "%xmode Verbose\n",
        "%pdb on\n",
        "from IPython.core.debugger import set_trace"
      ],
      "execution_count": null,
      "outputs": [
        {
          "output_type": "stream",
          "text": [
            "Exception reporting mode: Verbose\n",
            "Automatic pdb calling has been turned ON\n"
          ],
          "name": "stdout"
        }
      ]
    },
    {
      "cell_type": "code",
      "metadata": {
        "id": "v22VYPYETWTz"
      },
      "source": [
        "# reading the image data and ground truth\n",
        "DataPath = '/content/drive/MyDrive/dataset/Gaillac-UAV-ML-2016-subset2/Gaillac-UAV-ML-2016-subset2'\n",
        "txtPath='/content/drive/MyDrive/dataset/Gaillac-UAV-ML-2016-subset2/4_class_roi.txt'\n",
        "savepath ='/content/drive/MyDrive/dataset/Gaillac-UAV-ML-2016-subset2/2DCNN-14_2.mat'\n",
        "savemappath='/content/drive/MyDrive/dataset/Gaillac-UAV-ML-2016-subset2/ClassifiedMap.hdr'"
      ],
      "execution_count": null,
      "outputs": []
    },
    {
      "cell_type": "code",
      "metadata": {
        "id": "-iJlmxXMWVeU"
      },
      "source": [
        "!pip install spectral"
      ],
      "execution_count": null,
      "outputs": []
    },
    {
      "cell_type": "code",
      "metadata": {
        "id": "IRpSsUlwUpPQ"
      },
      "source": [
        " # Reading envi dataset\n",
        " import spectral.io.envi as envi\n",
        " img =envi.open(DataPath+'.hdr', DataPath)\n",
        " Data=img.load()\n",
        " #Data = Data.astype(np.float32)"
      ],
      "execution_count": null,
      "outputs": []
    },
    {
      "cell_type": "code",
      "metadata": {
        "id": "WSwu3fdSiThN"
      },
      "source": [
        " # Reading the header of ENVI ROI  convereted to ASCII file by ENVI\n",
        " import pandas as pd\n",
        " f=open(txtPath,'r')\n",
        " line=f.readline()\n",
        " ROI_names=[]\n",
        " ROI_npts=[]\n",
        " while line != '':  # The EOF char is an empty string\n",
        "    if 'Number of ROIs' in line:\n",
        "      no_class=int(line[18])\n",
        "    if 'File Dimension' in line:\n",
        "      dim=line[18:]\n",
        "      dim=dim.split(sep='x')\n",
        "      x_dim=int(dim[0])\n",
        "      y_dim=int(dim[1])\n",
        "    if 'ROI name' in line:\n",
        "      ROI_names.append(line[12:])\n",
        "    if 'ROI npts' in line:\n",
        "      ROI_npts.append(int(line[12:]))\n",
        "    if line[0]!=';':\n",
        "      break\n",
        "    else:\n",
        "      print(line, end='')\n",
        "    line=f.readline()\n",
        "f.close()"
      ],
      "execution_count": null,
      "outputs": []
    },
    {
      "cell_type": "markdown",
      "metadata": {
        "id": "LdO51xFs8H8i"
      },
      "source": [
        "When filling the ROI_arr, the difference between the coordinate system of the image and an array should be considered."
      ]
    },
    {
      "cell_type": "code",
      "metadata": {
        "id": "KoICxIc23qgV"
      },
      "source": [
        " # making ROI map\n",
        " import numpy as np\n",
        " f=open(txtPath,'r')\n",
        " line_no=0\n",
        " ROI_arr=np.zeros([y_dim, x_dim])\n",
        " cls_no=0\n",
        " for line in f:\n",
        "   line_no+=1\n",
        "   if line[0]!=';' and line[0]!='\\n':\n",
        "     #set_trace()\n",
        "     if line[5:8]==' 1 ':\n",
        "       cls_no+=1\n",
        "     ROI_arr[int(line[15:19]),int(line[9:13])]=cls_no\n",
        "f.close()\n"
      ],
      "execution_count": null,
      "outputs": []
    },
    {
      "cell_type": "code",
      "metadata": {
        "id": "KlyIpj2bP66S"
      },
      "source": [
        "# making training and test datasets\n",
        "TrLabel = np.zeros([y_dim, x_dim])\n",
        "TsLabel = np.zeros([y_dim, x_dim])\n",
        "for i in range(no_class):\n",
        "    jjj=0\n",
        "    ind = np.where(ROI_arr == (i+1))\n",
        "    indices=np.rint(np.linspace(0,ind[0].shape[0],3333, endpoint=False))\n",
        "    indices=indices.astype(int)\n",
        "    #set_trace()\n",
        "    for jj in indices:\n",
        "      TrLabel[ind[0][jj], ind[1][jj]]=i+1\n",
        "      if jj != 0 and jj < ind[0].shape[0]:\n",
        "        TsLabel[ind[0][jjj+1:jj], ind[1][jjj+1:jj]]=i+1\n",
        "        jjj=jj\n",
        "    print(np.nonzero(TsLabel)[0].shape)\n",
        "    print(ind[0].shape)\n",
        "  #  TsLabel[ind[0][:round(0.3*len(ind[0]))], ind[1][:round(0.3*len(ind[0]))]] = i+1\n",
        "  #  TrLabel[ind[0][round(0.3 * len(ind[0])):], ind[1][round(0.3 * len(ind[0])):]] = i + 1"
      ],
      "execution_count": null,
      "outputs": []
    },
    {
      "cell_type": "code",
      "metadata": {
        "id": "xXeMgSsPndt5"
      },
      "source": [
        "print(np.nonzero(TrLabel)[1].shape)"
      ],
      "execution_count": null,
      "outputs": []
    },
    {
      "cell_type": "code",
      "metadata": {
        "id": "3rvHvqrpI0WN"
      },
      "source": [
        "# some initialization\n",
        "patchsize = 16  # input spatial size for 2D-CNN\n",
        "batchsize = 128  # select from [16, 32, 64, 128], the best is 64\n",
        "EPOCH = 200\n",
        "LR = 0.001"
      ],
      "execution_count": null,
      "outputs": []
    },
    {
      "cell_type": "code",
      "metadata": {
        "id": "j8bgnPvaP6yP"
      },
      "source": [
        "# without dimensionality reduction\n",
        "pad_width = np.floor(patchsize / 2)\n",
        "pad_width = np.int(pad_width)\n",
        "\n",
        "# normalization method 2: map to zero mean and one std\n",
        "[m, n, l] = np.shape(Data)\n",
        "for i in range(l):\n",
        "    mean = np.mean(Data[:, :, i])\n",
        "    std = np.std(Data[:, :, i])\n",
        "    Data[:, :, i] = (Data[:, :, i] - mean) / std"
      ],
      "execution_count": null,
      "outputs": []
    },
    {
      "cell_type": "code",
      "metadata": {
        "id": "mqaC-7wRo0ul"
      },
      "source": [
        "x = Data\n",
        "# boundary interpolation\n",
        "temp = x[:, :, 0]\n",
        "temp=np.squeeze(temp)\n",
        "temp2 = np.pad(temp, pad_width, 'symmetric')\n",
        "[m2, n2] = temp2.shape\n",
        "x2 = np.empty((m2, n2, l), dtype='float32')\n",
        "for i in range(l):\n",
        "    temp = np.squeeze(x[:, :, i])\n",
        "    pad_width = np.floor(patchsize / 2)\n",
        "    pad_width = np.int(pad_width)\n",
        "    temp2 = np.pad(temp, pad_width, 'symmetric')\n",
        "    x2[:, :, i] = temp2"
      ],
      "execution_count": null,
      "outputs": []
    },
    {
      "cell_type": "code",
      "metadata": {
        "id": "5d-ibaflsln2"
      },
      "source": [
        "# to check if cuda is available or not\n",
        "# when the GPU is on from the 'Runtime' tab, the result would be 'True'\n",
        "import torch\n",
        "torch.cuda.is_available()"
      ],
      "execution_count": null,
      "outputs": []
    },
    {
      "cell_type": "code",
      "metadata": {
        "id": "ym5fSkqIroSH"
      },
      "source": [
        "import torch\n",
        "import torch.utils.data as dataf\n",
        "\n",
        "# construct the training and testing set\n",
        "[ind1, ind2] = np.where(TrLabel != 0)\n",
        "TrainNum = len(ind1)\n",
        "TrainPatch = np.empty((TrainNum, l, patchsize, patchsize), dtype='float32')\n",
        "TrainLabel = np.empty(TrainNum)\n",
        "ind3 = ind1 + pad_width\n",
        "ind4 = ind2 + pad_width\n",
        "for i in range(len(ind1)):\n",
        "    # patch = x2[(ind3[i] - pad_width):(ind3[i] + pad_width + 1), (ind4[i] - pad_width):(ind4[i] + pad_width + 1), :]\n",
        "    patch = x2[(ind3[i] - pad_width):(ind3[i] + pad_width), (ind4[i] - pad_width):(ind4[i] + pad_width), :]\n",
        "    patch = np.reshape(patch, (patchsize * patchsize, l))\n",
        "    patch = np.transpose(patch)\n",
        "    patch = np.reshape(patch, (l, patchsize, patchsize))\n",
        "    TrainPatch[i, :, :, :] = patch\n",
        "    patchlabel = TrLabel[ind1[i], ind2[i]]\n",
        "    TrainLabel[i] = patchlabel\n",
        "\n",
        "[ind1, ind2] = np.where(TsLabel != 0)\n",
        "TestNum = len(ind1)\n",
        "TestPatch = np.empty((TestNum, l, patchsize, patchsize), dtype='float32')\n",
        "TestLabel = np.empty(TestNum)\n",
        "ind3 = ind1 + pad_width\n",
        "ind4 = ind2 + pad_width\n",
        "for i in range(len(ind1)):\n",
        "    patch = x2[(ind3[i] - pad_width):(ind3[i] + pad_width), (ind4[i] - pad_width):(ind4[i] + pad_width), :]\n",
        "    patch = np.reshape(patch, (patchsize * patchsize, l))\n",
        "    patch = np.transpose(patch)\n",
        "    patch = np.reshape(patch, (l, patchsize, patchsize))\n",
        "    TestPatch[i, :, :, :] = patch\n",
        "    patchlabel = TsLabel[ind1[i], ind2[i]]\n",
        "    TestLabel[i] = patchlabel\n",
        "\n",
        "print('Training size and testing size are:', TrainPatch.shape, 'and', TestPatch.shape)\n"
      ],
      "execution_count": null,
      "outputs": []
    },
    {
      "cell_type": "code",
      "metadata": {
        "id": "MCsZmdytr1b2"
      },
      "source": [
        "# step3: change data to the input type of PyTorch\n",
        "TrainPatch = torch.from_numpy(TrainPatch)\n",
        "TrainLabel = torch.from_numpy(TrainLabel) - 1\n",
        "TrainLabel = TrainLabel.long()\n",
        "dataset = dataf.TensorDataset(TrainPatch, TrainLabel)\n",
        "train_loader = dataf.DataLoader(dataset, batch_size=batchsize, shuffle=True)\n",
        "\n",
        "TestPatch = torch.from_numpy(TestPatch)\n",
        "TestLabel = torch.from_numpy(TestLabel) - 1\n",
        "TestLabel = TestLabel.long()\n",
        "\n",
        "Classes = len(np.unique(TrainLabel))\n",
        "\n",
        "OutChannel = 32"
      ],
      "execution_count": null,
      "outputs": []
    },
    {
      "cell_type": "code",
      "metadata": {
        "id": "HlU8UeCJr8zD"
      },
      "source": [
        "# construct the network\n",
        "import torch.nn as nn\n",
        "class CNN(nn.Module): # nn.Module is the base class for all neural network modules\n",
        "    def __init__(self):\n",
        "        super(CNN, self).__init__()  # super() allows us to access methods in the base class\n",
        "        self.conv1 = nn.Sequential(  # a sequential container\n",
        "            nn.Conv2d(\n",
        "                in_channels=l,\n",
        "                out_channels=OutChannel,\n",
        "                kernel_size=3,\n",
        "                stride=1,\n",
        "                padding=1,\n",
        "            ),\n",
        "            nn.BatchNorm2d(OutChannel),\n",
        "            nn.ReLU(),\n",
        "            nn.MaxPool2d(kernel_size=2),\n",
        "        )\n",
        "        self.conv2 = nn.Sequential(\n",
        "            nn.Conv2d(OutChannel, OutChannel * 2, 3, 1, 1),\n",
        "            nn.BatchNorm2d(OutChannel * 2),\n",
        "            nn.ReLU(),\n",
        "            nn.MaxPool2d(2),\n",
        "            # nn.Dropout(0.5),\n",
        "\n",
        "        )\n",
        "        self.conv3 = nn.Sequential(\n",
        "            nn.Conv2d(OutChannel * 2, OutChannel * 4, 3, 1, 1),\n",
        "            nn.BatchNorm2d(OutChannel * 4),\n",
        "            nn.ReLU(),\n",
        "            nn.AdaptiveMaxPool2d(1),\n",
        "            # nn.Dropout(0.5),\n",
        "\n",
        "        )\n",
        "\n",
        "        self.out = nn.Linear(OutChannel * 4, Classes)  # fully connected layer, output 16 classes\n",
        "    \n",
        "    def forward(self, x):\n",
        "        #set_trace()\n",
        "        x = self.conv1(x)\n",
        "        x = self.conv2(x)\n",
        "        x = self.conv3(x)\n",
        "        x = x.view(x.size(0), -1)  # flatten the output of conv2 to (batch_size, 32 * 7 * 7)\n",
        "        output = self.out(x)\n",
        "        return output"
      ],
      "execution_count": null,
      "outputs": []
    },
    {
      "cell_type": "code",
      "metadata": {
        "id": "pjymtoeSsEql"
      },
      "source": [
        "cnn = CNN()\n",
        "print('The structure of the designed network', cnn)\n",
        "\n",
        "# move model to GPU\n",
        "cnn.cuda()\n",
        "optimizer = torch.optim.Adam(cnn.parameters(), lr=LR)  # optimize all cnn parameters\n",
        "loss_func = nn.CrossEntropyLoss()  # the target label is not one-hotted\n",
        "BestAcc = 0"
      ],
      "execution_count": null,
      "outputs": []
    },
    {
      "cell_type": "code",
      "metadata": {
        "id": "FOcRKi7Os2_7"
      },
      "source": [
        "# train and test the designed model\n",
        "for epoch in range(EPOCH):\n",
        "    for step, (b_x, b_y) in enumerate(train_loader):  # gives batch data, normalize x when iterate train_loader\n",
        "        # move train data to GPU\n",
        "        b_x = b_x.cuda()\n",
        "        b_y = b_y.cuda()\n",
        "\n",
        "        output = cnn(b_x)  # cnn output\n",
        "        loss = loss_func(output, b_y)  # cross entropy loss\n",
        "        optimizer.zero_grad()  # clear gradients for this training step\n",
        "        loss.backward()  # backpropagation, compute gradients\n",
        "        optimizer.step()  # apply gradients\n",
        "\n",
        "        if step % 50 == 0:\n",
        "            #set_trace()\n",
        "\n",
        "            cnn.eval()\n",
        "\n",
        "            pred_y = np.empty((len(TestLabel)), dtype='float32')\n",
        "            number = len(TestLabel) // 5000\n",
        "            for i in range(number):\n",
        "                temp = TestPatch[i * 5000:(i + 1) * 5000, :, :, :]\n",
        "                temp = temp.cuda()\n",
        "                temp2 = cnn(temp)\n",
        "                temp3 = torch.max(temp2, 1)[1].squeeze()\n",
        "                pred_y[i * 5000:(i + 1) * 5000] = temp3.cpu()\n",
        "                del temp, temp2, temp3\n",
        "\n",
        "            if (i + 1) * 5000 < len(TestLabel):\n",
        "                temp = TestPatch[(i + 1) * 5000:len(TestLabel), :, :, :]\n",
        "                temp = temp.cuda()\n",
        "                temp2 = cnn(temp)\n",
        "                temp3 = torch.max(temp2, 1)[1].squeeze()\n",
        "                pred_y[(i + 1) * 5000:len(TestLabel)] = temp3.cpu()\n",
        "                del temp, temp2, temp3\n",
        "\n",
        "            pred_y = torch.from_numpy(pred_y).long()\n",
        "            accuracy = torch.sum(pred_y == TestLabel).type(torch.FloatTensor) / TestLabel.size(0)\n",
        "            # test_output = rnn(TestData)\n",
        "            # pred_y = torch.max(test_output, 1)[1].cuda().data.squeeze()\n",
        "            # accuracy = torch.sum(pred_y == TestDataLabel).type(torch.FloatTensor) / TestDataLabel.size(0)\n",
        "            print('Epoch: ', epoch, '| train loss: %.4f' % loss.data.cpu().numpy(), '| test accuracy: %.2f' % accuracy)\n",
        "            # save the parameters in network\n",
        "            #set_trace()\n",
        "            if accuracy > BestAcc:\n",
        "                torch.save(cnn.state_dict(), '/content/drive/MyDrive/Gaillac-UAV-ML-2016/net_params_2DCNN2.pkl')\n",
        "                BestAcc = accuracy\n",
        "\n",
        "            cnn.train()"
      ],
      "execution_count": null,
      "outputs": []
    },
    {
      "cell_type": "code",
      "metadata": {
        "id": "oBakzy54GjZl"
      },
      "source": [
        "# # test each class accuracy\n",
        "# # divide test set into many subsets\n",
        "\n",
        "import matplotlib.pyplot as plt\n",
        "\n",
        "cnn.load_state_dict(torch.load('/content/drive/MyDrive/Gaillac-UAV-ML-2016/net_params_2DCNN2.pkl'))\n",
        "cnn.eval()\n",
        "# model.eval() will notify all your layers that you are in evaluation mode, that\n",
        "# way, batchnorm or dropout layers will work in eval mode instead of training mode.\n",
        "\n",
        "pred_y = np.empty((len(TestLabel)), dtype='float32')\n",
        "number = len(TestLabel)//5000  # // is the floor division\n",
        "for i in range(number):\n",
        "    temp = TestPatch[i*5000:(i+1)*5000, :, :]\n",
        "    temp = temp.cuda()\n",
        "    temp2 = cnn(temp)\n",
        "    temp3 = torch.max(temp2, 1)[1].squeeze()\n",
        "    pred_y[i*5000:(i+1)*5000] = temp3.cpu()\n",
        "    del temp, temp2, temp3\n",
        "\n",
        "if (i+1)*5000 < len(TestLabel):\n",
        "    temp = TestPatch[(i+1)*5000:len(TestLabel), :, :]\n",
        "    temp = temp.cuda()\n",
        "    temp2 = cnn(temp)\n",
        "    temp3 = torch.max(temp2, 1)[1].squeeze()\n",
        "    pred_y[(i+1)*5000:len(TestLabel)] = temp3.cpu()\n",
        "    del temp, temp2, temp3\n",
        "\n",
        "pred_y = torch.from_numpy(pred_y).long()\n",
        "OA = torch.sum(pred_y == TestLabel).type(torch.FloatTensor) / TestLabel.size(0)\n",
        "\n",
        "Classes = np.unique(TestLabel)\n",
        "EachAcc = np.empty(len(Classes))\n",
        "\n",
        "for i in range(len(Classes)):\n",
        "    cla = Classes[i]\n",
        "    right = 0\n",
        "    sum = 0\n",
        "\n",
        "    for j in range(len(TestLabel)):\n",
        "        if TestLabel[j] == cla:\n",
        "            sum += 1\n",
        "        if TestLabel[j] == cla and pred_y[j] == cla:\n",
        "            right += 1\n",
        "\n",
        "    EachAcc[i] = right.__float__()/sum.__float__()\n",
        "\n",
        "\n",
        "print(OA)\n",
        "print(EachAcc)\n",
        "\n",
        "del TestPatch, TrainPatch, TrainLabel, b_x, b_y, dataset, train_loader\n"
      ],
      "execution_count": null,
      "outputs": []
    },
    {
      "cell_type": "code",
      "metadata": {
        "id": "JUYgDAgnEes7"
      },
      "source": [
        "# show the whole image\n",
        "# The whole data is too big to test in one time; So dividing it into several parts\n",
        "from scipy import io\n",
        "\n",
        "part = 5000\n",
        "pred_all = np.empty((m*n, 1), dtype='float32')\n",
        "\n",
        "number = m*n//part\n",
        "for i in range(number):\n",
        "    D = np.empty((part, l, patchsize, patchsize), dtype='float32')\n",
        "    count = 0\n",
        "    for j in range(i*part, (i+1)*part):\n",
        "        row = j//n\n",
        "        col = j - row*n\n",
        "        row2 = row + pad_width\n",
        "        col2 = col + pad_width\n",
        "        patch = x2[(row2 - pad_width):(row2 + pad_width), (col2 - pad_width):(col2 + pad_width), :]\n",
        "        patch = np.reshape(patch, (patchsize * patchsize, l))\n",
        "        patch = np.transpose(patch)\n",
        "        patch = np.reshape(patch, (l, patchsize, patchsize))\n",
        "        D[count, :, :, :] = patch\n",
        "        count += 1\n",
        "\n",
        "    temp = torch.from_numpy(D)\n",
        "    temp = temp.cuda()\n",
        "    temp2 = cnn(temp)\n",
        "    temp3 = torch.max(temp2, 1)[1].squeeze()\n",
        "    pred_all[i*part:(i+1)*part, 0] = temp3.cpu()\n",
        "    del temp, temp2, temp3, D\n",
        "\n",
        "if (i+1)*part < m*n:\n",
        "    D = np.empty((m*n-(i+1)*part, l, patchsize, patchsize), dtype='float32')\n",
        "    count = 0\n",
        "    for j in range((i+1)*part, m*n):\n",
        "        row = j // n\n",
        "        col = j - row * n\n",
        "        row2 = row + pad_width\n",
        "        col2 = col + pad_width\n",
        "        patch = x2[(row2 - pad_width):(row2 + pad_width), (col2 - pad_width):(col2 + pad_width), :]\n",
        "        patch = np.reshape(patch, (patchsize * patchsize, l))\n",
        "        patch = np.transpose(patch)\n",
        "        patch = np.reshape(patch, (l, patchsize, patchsize))\n",
        "        D[count, :, :, :] = patch\n",
        "        count += 1\n",
        "\n",
        "    temp = torch.from_numpy(D)\n",
        "    temp = temp.cuda()\n",
        "    temp2 = cnn(temp)\n",
        "    temp3 = torch.max(temp2, 1)[1].squeeze()\n",
        "    pred_all[(i + 1) * part:m*n, 0] = temp3.cpu()\n",
        "    del temp, temp2, temp3, D\n",
        "\n",
        "\n",
        "pred_all = np.reshape(pred_all, (m, n)) + 1\n",
        "OA = OA.numpy()\n",
        "pred_y = pred_y.cpu()\n",
        "pred_y = pred_y.numpy()\n",
        "TestDataLabel = TestLabel.cpu()\n",
        "TestDataLabel = TestDataLabel.numpy()\n",
        "\n",
        "io.savemat(savepath, {'PredAll': pred_all, 'OA': OA, 'TestPre': pred_y, 'TestLabel': TestDataLabel})\n",
        "\n",
        "print(io.loadmat(savepath))\n",
        "#\n",
        "plt.figure()\n",
        "plt.imshow(pred_all)\n",
        "plt.show()"
      ],
      "execution_count": null,
      "outputs": []
    },
    {
      "cell_type": "code",
      "metadata": {
        "id": "fTcBaXPk5mj0"
      },
      "source": [
        "OA"
      ],
      "execution_count": null,
      "outputs": []
    },
    {
      "cell_type": "code",
      "metadata": {
        "colab": {
          "base_uri": "https://localhost:8080/",
          "height": 269
        },
        "id": "OnQShyduLotk",
        "outputId": "b1d948ca-dd9a-4f6f-ec86-45ca7a799471"
      },
      "source": [
        "import matplotlib.pyplot as plt\n",
        "from matplotlib import cm\n",
        "from matplotlib.colors import ListedColormap, LinearSegmentedColormap\n",
        "import matplotlib.patches as mpatches\n",
        "\n",
        "#  matplotlib color specification: https://matplotlib.org/stable/tutorials/colors/colors.html\n",
        "cmap = ListedColormap([\"red\", \"lightgreen\", \"darkgreen\", \"yellow\"])\n",
        "label=[\"Soil\", \"Vine\", \"Shadow\",  \"Grass\"]\n",
        "#set_trace()\n",
        "\n",
        "#plt.figure(figsize = (10,8))\n",
        "\n",
        "patches=[mpatches.Patch(color=cmap.colors[i], label=label[i]) for i in range(len(label))]\n",
        "plt.legend(handles=patches, bbox_to_anchor=(1.05, 0), loc='lower left', borderaxespad=0., fontsize='small')\n",
        "plt.imshow(pred_all, cmap=cmap)\n",
        "#plt.show()\n",
        "plt.savefig('/content/drive/MyDrive/dataset/Gaillac-UAV-ML-2016-subset2/classification_map.jpeg', dpi=400)\n"
      ],
      "execution_count": null,
      "outputs": [
        {
          "output_type": "display_data",
          "data": {
            "image/png": "[encoded data removed]",
            "text/plain": [
              "<Figure size 432x288 with 1 Axes>"
            ]
          },
          "metadata": {
            "tags": [],
            "needs_background": "light"
          }
        }
      ]
    },
    {
      "cell_type": "code",
      "metadata": {
        "id": "QeuHnVpExdn1"
      },
      "source": [
        "pred_all.shape[0]"
      ],
      "execution_count": null,
      "outputs": []
    },
    {
      "cell_type": "code",
      "metadata": {
        "id": "_zTMtIQqsNKI"
      },
      "source": [
        "\n",
        "\n",
        "md = {'description ' : '{Convelutional Neural Network Result}',\n",
        "      'map info ' : '{Lambert Conformal Conic, 1.0000, 1.0000, 612671.3900, 6323154.0000, 1.0000000149e-001, 1.0000000149e-001, Reseau Geodesique Francaise, units=Meters}',\n",
        "      'projection info ' : '{4, 6378137.0, 6356752.3, 46.500000, 3.000000, 700000.0, 6600000.0, 44.000000, 49.000000, Reseau Geodesique Francaise, Lambert Conformal Conic, units=Meters}',\n",
        "      'Coordinate system string ': '{PROJCS[\"Lambert Conformal Conic\",GEOGCS[\"GCS_RGF_1993\",DATUM[\"D_RGF_1993\",SPHEROID[\"GRS_1980\",6378137.0,298.257222101]],PRIMEM[\"Greenwich\",0.0],UNIT[\"Degree\",0.0174532925199433]],PROJECTION[\"Lambert_Conformal_Conic\"],PARAMETER[\"False_Easting\",700000.0],PARAMETER[\"False_Northing\",6600000.0],PARAMETER[\"Central_Meridian\",3.0],PARAMETER[\"Standard_Parallel_1\",44.0],PARAMETER[\"Standard_Parallel_2\",49.0],PARAMETER[\"Scale_Factor\",1.0],PARAMETER[\"Latitude_Of_Origin\",46.5],UNIT[\"Meter\",1.0]]}',\n",
        "      'wavelength units ' : 'Unknown' ,\n",
        "      'lines': pred_all.shape[0], 'samples': pred_all.shape[1],'bands': 1}\n",
        "#img = envi.create_image('savemappath', md)\n",
        "#envi.save_classification()\n",
        "envi.save_classification('/content/drive/MyDrive/dataset/Gaillac-UAV-ML-2016-subset2/pred_all.hdr', pred_all, dtype=np.float32, metadata=md, force=True)\n",
        "# savemappath='/content/drive/MyDrive/Gaillac-UAV-ML-2016/ClassifiedMap.hdr'"
      ],
      "execution_count": null,
      "outputs": []
    }
  ]
}